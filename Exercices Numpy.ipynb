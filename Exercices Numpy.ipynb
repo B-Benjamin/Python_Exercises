{
 "cells": [
  {
   "cell_type": "code",
   "execution_count": 1,
   "metadata": {},
   "outputs": [],
   "source": [
    "import numpy as np"
   ]
  },
  {
   "cell_type": "markdown",
   "metadata": {},
   "source": [
    "## <u>**Exercice 1**</u>\n",
    "\n",
    "### <u>PARTIE A</u>\n",
    "\n",
    "Créer un tableau depuis la liste [1.6, 0.5, 7.4, 22.3] et stocker le dans la variable « vec ».\n",
    " * Afficher le contenu de la variable « vec »\n",
    " * Afficher le type de données du tableau « vec », sa forme, sa dimension et sa longueur.\n",
    " * Afficher le troisième élément du tableau.\n",
    " * Modifier la valeur « 0.5 » par « 3.8 ».\n",
    " * Calculer la taille de la mémoire du tableau.\n",
    " * Convertir le type du tableau vers « int »\n",
    " * Calculer la taille de la mémoire du tableau après la conversion du type.\n",
    " * Sauvegarder le tableau dans un fichier texte."
   ]
  },
  {
   "cell_type": "code",
   "execution_count": 2,
   "metadata": {},
   "outputs": [
    {
     "name": "stdout",
     "output_type": "stream",
     "text": [
      "vec: [ 1.6  0.5  7.4 22.3]\n",
      "Le type de vec est float64\n",
      "Le 3e element de vec est 7.4\n"
     ]
    }
   ],
   "source": [
    "vec = np.array([1.6, 0.5, 7.4, 22.3])\n",
    "print(\"vec:\", vec)\n",
    "print(\"Le type de vec est\", vec.dtype)\n",
    "print(\"Le 3e element de vec est\", vec[2])\n",
    "vec[1] = 3.8 #modification valeur dans le tableau"
   ]
  },
  {
   "cell_type": "code",
   "execution_count": 3,
   "metadata": {},
   "outputs": [
    {
     "name": "stdout",
     "output_type": "stream",
     "text": [
      "La taille de mémoire du tableau (float) est: 32\n",
      "Nouveau type: int32\n",
      "La taille de mémoire du tableau (int) est: 16\n"
     ]
    }
   ],
   "source": [
    "print(\"La taille de mémoire du tableau (float) est:\", vec.nbytes)\n",
    "vec = vec.astype(int)\n",
    "print(\"Nouveau type:\", vec.dtype) #vérification du changement en int\n",
    "print(\"La taille de mémoire du tableau (int) est:\", vec.nbytes)\n",
    "np.savetxt('vec.txt', vec)"
   ]
  },
  {
   "cell_type": "markdown",
   "metadata": {},
   "source": [
    "### <u>PARTIE B</u>\n",
    "Créer une matrice « mat » depuis la liste [[0, 3, 6, 9], [5, 10, 15, 20], [30, 40, 50, 60]]\n",
    " * Afficher le contenu de la variable « mat »\n",
    " * Afficher le type de données de la matrice « mat », sa forme, sa dimension et sa longueur.\n",
    " * Pouvez-vous obtenir la dimension et la longueur à partir de la forme ?\n",
    " * Créer la matrice mat_1 extraite de mat telle que i >= 1, j <=2.\n",
    " * Modifier la matrice « mat » afin que sa dernière ligne soit divisée par 10 et que sa première colonne soit multipliée par 2."
   ]
  },
  {
   "cell_type": "code",
   "execution_count": 4,
   "metadata": {},
   "outputs": [
    {
     "name": "stdout",
     "output_type": "stream",
     "text": [
      "[[ 0  3  6  9]\n",
      " [ 5 10 15 20]\n",
      " [30 40 50 60]]\n",
      "Type: int32\n",
      "Forme: (3, 4)\n",
      "Dimension: 2\n",
      "Longueur: 12\n"
     ]
    }
   ],
   "source": [
    "mat = np.array([[0, 3, 6, 9], [5, 10, 15, 20], [30, 40, 50, 60]])\n",
    "print(mat)\n",
    "print('Type:', mat.dtype)\n",
    "print('Forme:', mat.shape)\n",
    "print('Dimension:', mat.ndim)\n",
    "print('Longueur:', mat.size) #correspond au nombre d'éléments dans la matrice"
   ]
  },
  {
   "cell_type": "code",
   "execution_count": 5,
   "metadata": {},
   "outputs": [
    {
     "name": "stdout",
     "output_type": "stream",
     "text": [
      "[[ 0  3]\n",
      " [ 6  9]\n",
      " [ 5 10]\n",
      " [15 20]\n",
      " [30 40]\n",
      " [50 60]]\n"
     ]
    }
   ],
   "source": [
    "mat_1 = mat.reshape(6,2)\n",
    "print(mat_1)\n",
    "# On veut un nombre de colonnes <=2 donc à moins de faire un vecteur colonne type (12,1), j'ai choisi\n",
    "# de faire un tabelau à deux dimensions (6,2)"
   ]
  },
  {
   "cell_type": "code",
   "execution_count": 6,
   "metadata": {},
   "outputs": [
    {
     "name": "stdout",
     "output_type": "stream",
     "text": [
      "[[ 0  3  6  9]\n",
      " [10 10 15 20]\n",
      " [ 6  4  5  6]]\n"
     ]
    }
   ],
   "source": [
    "mat[2,:] = mat[2,:]/10\n",
    "mat[:,0] = mat[:,0]*2\n",
    "\n",
    "print(mat)"
   ]
  },
  {
   "cell_type": "markdown",
   "metadata": {},
   "source": [
    "### <u>PARTIE C</u>\n",
    "\n",
    "Créer un tableau multidimensionnel « nd_vec » d’une dimension > 2\n",
    "* Afficher le contenu de « nd_vec »\n",
    "* Afficher le type de données du tableau « nd_vec », sa forme, sa dimension et sa longueur.\n",
    "* Pouvez-vous obtenir la dimension et la longueur à partir de la forme ?\n",
    "* Afficher un élément de ce tableau ainsi qu’un sous tableau. "
   ]
  },
  {
   "cell_type": "code",
   "execution_count": null,
   "metadata": {},
   "outputs": [],
   "source": [
    "nd_vec = "
   ]
  },
  {
   "cell_type": "markdown",
   "metadata": {},
   "source": [
    "## <u>**Exercice 2**</u>\n",
    "\n",
    "* Créer un tableau 1D vide de taille 10 et de type « int » ; observer les valeurs du tableau.\n",
    "* Créer un tableau 2D vide de dimension (3x3) et de type « float » ; observer les valeurs du tableau.\n",
    "* Créer un tableau de 3 dimensions (3x3x3) initialiséavec des zéros « 0 ». \n",
    "* Créer une matrice de taille (5x5) comportant des uns « 1 ».\n",
    "* Créer un tableau de taille (10x10) initialisé avec la valeur « np.inf »\n",
    "* Créer une matrice d’identité de taille (4x4).\n",
    "* Créer une matrice dont la diagonale est égale à [2, 3, 4, 5] et des 0 ailleurs. "
   ]
  },
  {
   "cell_type": "code",
   "execution_count": 7,
   "metadata": {
    "scrolled": false
   },
   "outputs": [],
   "source": [
    "onedim_arr = np.empty((10,1), dtype=int)\n",
    "#print(\"Matrice 1D:\", onedim_arr)\n",
    "\n",
    "twodims_arr = np.empty((3,3), dtype=float)\n",
    "#print(\"Matrice 2D:\", twodims_arr)\n",
    "\n",
    "threedims_arr = np.zeros((3,3,3))\n",
    "\n",
    "mat_2 = np.zeros((5,5))+1\n",
    "#print(mat_2)\n",
    "\n",
    "arr = np.array(np.zeros((10,10))+np.inf)\n",
    "#print(arr)\n",
    "\n",
    "mat_id = np.identity(4)\n",
    "#print(mat_id)\n",
    "\n",
    "np.fill_diagonal(mat_id, [2,3,4,5])\n",
    "#print(mat_id)"
   ]
  },
  {
   "cell_type": "markdown",
   "metadata": {},
   "source": [
    "## <u>**Exercice 3**</u>\n",
    "\n",
    "* Créer un tableau comportant la série d’entiers de 5 à 25 : [5, 6, 7, ... , 23,24,25]\n",
    "* Créer un tableau contenant tous les entiers pairs entre 100 et 150 inclus.\n",
    "* Créer un tableau qui comporte les dates du mois de Février 2019, ce tableau est de type « datetime64[D] »\n",
    "* Créer un tableau de dix éléments équidistants entre 2 et 5 inclus.\n",
    "* Soit la fonction $y=f(x)=(\\exp(x)-\\exp(-x))/(\\exp(x)+\\exp(-x))$.\n",
    "* Créer des tableaux x, y qui contiennent respectivement 50 valeurs réparties uniformément sur [-5, 5] et l’évaluation de la fonction sur ces valeurs.\n",
    "* Ecrire un programme NumPy qui permet de générer un nombre aléatoire entre 0 et 1.\n",
    "* Créer un tableau de la dimension et de la taille de votre choix contenant des valeurs entre 34 et 76.\n",
    "* Faites un tableau de forme (3, 5) avec des nombres aléatoires à partir d'une distribution normale standard (une distribution normale avec une moyenne 0 et une variance 1).\n",
    "* Créer une matrice (10x5) comportant des entiers aléatoires entre 0 et 100.\n",
    "    * Standardiser cette matrice telle que chaque colonne aura une moyenne nulle et un écart type égal à 1"
   ]
  },
  {
   "cell_type": "code",
   "execution_count": 9,
   "metadata": {},
   "outputs": [],
   "source": [
    "tableau = np.array(np.arange(5,26,1))\n",
    "tableau2 = np.array(np.arange(100,151,2))\n",
    "tableau3 = np.array(np.arange('2019-02', '2019-03', dtype='datetime64[D]'))\n",
    "tableau4 = np.array(np.linspace(2,5,10))"
   ]
  },
  {
   "cell_type": "code",
   "execution_count": 10,
   "metadata": {},
   "outputs": [],
   "source": [
    "def f(x):\n",
    "    return (np.exp(x)-np.exp(-x))/(np.exp(x)+np.exp(-x))\n",
    "\n",
    "x = np.array(np.linspace(-5,5,50))\n",
    "y = f(x)"
   ]
  },
  {
   "cell_type": "code",
   "execution_count": 12,
   "metadata": {},
   "outputs": [
    {
     "data": {
      "text/plain": [
       "0.25870080465644685"
      ]
     },
     "execution_count": 12,
     "metadata": {},
     "output_type": "execute_result"
    }
   ],
   "source": [
    "import random\n",
    "\n",
    "def nb_aleatoire():\n",
    "    '''\n",
    "    Cette fonction ne prend aucun paramètre en entrée mais permet de\n",
    "    générer un nombre aléatoire entre 0 et 1 grâce à la fonction random\n",
    "    du module éponyme.\n",
    "    '''\n",
    "    return random.random()"
   ]
  },
  {
   "cell_type": "code",
   "execution_count": null,
   "metadata": {},
   "outputs": [],
   "source": []
  },
  {
   "cell_type": "code",
   "execution_count": 13,
   "metadata": {},
   "outputs": [],
   "source": [
    "tableau5 = np.random.normal(0, 1, size=(3,5))\n",
    "tableau6 = np.random.randint(0,100,size=(10,5))"
   ]
  },
  {
   "cell_type": "markdown",
   "metadata": {},
   "source": [
    "## <u>**Exercice 4**</u>\n",
    "\n",
    "* Créer une matrice aléatoire 10x10\n",
    "    * Sélectionner l'élément dans la première ligne et la première colonne.\n",
    "    * Mettre l'élément de la dernière ligne et de la dernière colonne à -1.\n",
    "    * Sélectionner les éléments de la deuxième ligne.\n",
    "    * Sélectionner les éléments de la troisième colonne.\n",
    "    * Remplacer tous les éléments de la deuxième ligne par 0.\n",
    "* Ecrire un programme NumPy pour inverser un tableau (le premier élément devient le dernier)\n",
    "* Ecrire un programme NumPy pour créer un tableau 2D avec 1 sur la bordure et 0 à l'intérieur\n",
    "* Ecrire un programme NumPy pour créer une matrice 8x8 et remplissez là avec un motif en damier"
   ]
  },
  {
   "cell_type": "code",
   "execution_count": 22,
   "metadata": {
    "scrolled": true
   },
   "outputs": [
    {
     "name": "stdout",
     "output_type": "stream",
     "text": [
      "Matrice entière:\n",
      " [[8 6 3 2 0 8 6 2 0 4]\n",
      " [6 2 7 8 1 2 7 6 4 0]\n",
      " [9 8 8 5 8 9 2 4 8 8]\n",
      " [2 9 9 2 0 3 0 7 9 0]\n",
      " [5 5 2 8 0 2 8 4 4 7]\n",
      " [0 3 4 1 9 4 9 9 2 5]\n",
      " [7 9 5 1 1 8 6 4 7 1]\n",
      " [6 3 8 6 2 6 3 1 5 1]\n",
      " [4 0 7 9 1 1 6 7 9 4]\n",
      " [0 0 7 1 2 7 7 2 5 6]]\n",
      "Matrice avec changement:\n",
      " [[ 8  6  3  2  0  8  6  2  0  4]\n",
      " [ 6  2  7  8  1  2  7  6  4  0]\n",
      " [ 9  8  8  5  8  9  2  4  8  8]\n",
      " [ 2  9  9  2  0  3  0  7  9  0]\n",
      " [ 5  5  2  8  0  2  8  4  4  7]\n",
      " [ 0  3  4  1  9  4  9  9  2  5]\n",
      " [ 7  9  5  1  1  8  6  4  7  1]\n",
      " [ 6  3  8  6  2  6  3  1  5  1]\n",
      " [ 4  0  7  9  1  1  6  7  9  4]\n",
      " [ 0  0  7  1  2  7  7  2  5 -1]]\n",
      "Deuxième ligne: [6 2 7 8 1 2 7 6 4 0]\n",
      "Troisième colonne: [3 7 8 9 2 4 5 8 7 7]\n",
      "Changement dernière ligne:\n",
      " [[8 6 3 2 0 8 6 2 0 4]\n",
      " [6 2 7 8 1 2 7 6 4 0]\n",
      " [9 8 8 5 8 9 2 4 8 8]\n",
      " [2 9 9 2 0 3 0 7 9 0]\n",
      " [5 5 2 8 0 2 8 4 4 7]\n",
      " [0 3 4 1 9 4 9 9 2 5]\n",
      " [7 9 5 1 1 8 6 4 7 1]\n",
      " [6 3 8 6 2 6 3 1 5 1]\n",
      " [4 0 7 9 1 1 6 7 9 4]\n",
      " [0 0 0 0 0 0 0 0 0 0]]\n"
     ]
    }
   ],
   "source": [
    "mat_al = np.random.randint(0,10,size=(10,10))\n",
    "print('Matrice entière:\\n', mat_al)\n",
    "mat_al[-1,-1] = -1 #mat_al[9,9] fonctionne aussi mais -1 désigne d'office le dernier élément\n",
    "print('Matrice avec changement:\\n', mat_al) #le 3 est devenu -1\n",
    "print('Deuxième ligne:', mat_al[1,:])\n",
    "print('Troisième colonne:', mat_al[:,2])\n",
    "mat_al[-1,:] = 0\n",
    "print('Changement dernière ligne:\\n', mat_al)"
   ]
  },
  {
   "cell_type": "code",
   "execution_count": 39,
   "metadata": {},
   "outputs": [],
   "source": [
    "def inversetab(arr):\n",
    "    '''\n",
    "    Cette fonction prend en paramètre un tableau qu'importe\n",
    "    sa dimension. Elle renvoie le tableau passé en input avec\n",
    "    ses éléments inversés.\n",
    "    '''\n",
    "    arr_flipped = np.flip(arr)\n",
    "    return arr_flipped\n",
    "\n",
    "def bord_int(nb_row, nb_col):\n",
    "    '''\n",
    "    Cette fonction prend en entrée un nombre de lignes\n",
    "    et un nombre de colonnes. Elle renvoie un tableau\n",
    "    avec des 1 sur les bordures extérieures(1e colonne, 1e ligne,\n",
    "    dernière colonne, dernière ligne).\n",
    "    '''\n",
    "    arr = np.zeros((nb_row, nb_col))\n",
    "    arr[0,:] = 1\n",
    "    arr[:,0] = 1\n",
    "    arr[-1,:] = 1\n",
    "    arr[:,-1] = 1\n",
    "    return arr\n",
    "\n",
    "def damier():\n",
    "    '''\n",
    "    Cette fonction ne prend aucun paramètre en entrée et va\n",
    "    créer un array avec un motif en damier.\n",
    "    '''\n",
    "    arr = np.empty((8,8), dtype='str')\n",
    "    for i in range(8):\n",
    "        for j in range(8):\n",
    "            if (i+j)%2 == 0:\n",
    "                arr[i,j] = 'X'\n",
    "            else:\n",
    "                arr[i,j] = 'O'\n",
    "    return arr"
   ]
  },
  {
   "cell_type": "markdown",
   "metadata": {},
   "source": [
    "## <u>**Exercice 5**</u>\n",
    "\n",
    "* Ecrire un programme NumPy dans lequel vous allez:\n",
    "    * Définir un tableau à une dimension de la taille de votre choix\n",
    "    * Calculer l'écart-type des valeurs présentes dans ce tableau\n",
    "    * Chercher les valeurs et les indices des éléments qui sont supérieurs à la moyenne+1.96\\*ecart-type\n",
    "    * Remplacer toutes ces valeurs par la valeur maximale du tableau\n",
    "    * Chercher les valeurs et les indices des éléments qui sont inférieurs à la moyenne-1.96\\*ecart-type\n",
    "    * Remplacer toutes ces valeurs par la valeur minimale du tableau\n",
    "    * Compter le nombre d'éléments égaux au maximum et le nombre d'éléments égaux au maximum\n",
    "    * Compter le nombre d'éléments différents de min ou de max"
   ]
  },
  {
   "cell_type": "code",
   "execution_count": 43,
   "metadata": {},
   "outputs": [],
   "source": [
    "my_array = np.random.randint(10,50,size=(30,1))\n",
    "\n",
    "def programme(arr):\n",
    "    # Calcul de la moyenne et de l'écart-type\n",
    "    std = arr.std()\n",
    "    mean = arr.mean()\n",
    "    \n",
    "    # Définition des seuils\n",
    "    seuil_sup = mean + (1.96*std)\n",
    "    seuil_inf = mean - (1.96*std)\n",
    "    \n",
    "    # Définition des valeurs qu'il faudra remplacer\n",
    "    valeur_max = arr.max()\n",
    "    valeur_min = arr.min()\n",
    "    \n",
    "    # Recherche des valeurs\n",
    "    for i in range(arr.shape[0]):\n",
    "        if arr[i,:] > seuil_sup:\n",
    "            arr[i,:] = valeur_max\n",
    "        elif arr[i,:] < seuil_inf:\n",
    "            arr[i,:] = valeur_min\n",
    "    \n",
    "    # Comptage des valeurs\n",
    "    nb_valeurs_max = np.count_nonzero(arr == valeur_max)\n",
    "    nb_valeurs_min = np.count_nonzero(arr == valeur_min)\n",
    "    nb_valeurs_autres = np.count_nonzero(((arr != valeur_max) & (arr != valeur_min)))\n",
    "    \n",
    "    #Affichage\n",
    "    print('Nombre de valeurs maximum:', nb_valeurs_max)\n",
    "    print('Nombre de valeurs minimum:', nb_valeurs_min)\n",
    "    print('Nombre de valeurs autres:', nb_valeurs_autres)"
   ]
  },
  {
   "cell_type": "code",
   "execution_count": 46,
   "metadata": {
    "scrolled": true
   },
   "outputs": [
    {
     "name": "stdout",
     "output_type": "stream",
     "text": [
      "Nombre de valeurs maximum: 1\n",
      "Nombre de valeurs minimum: 2\n",
      "Nombre de valeurs autres: 27\n",
      "[[19 24 42 34 13 27 26 38 45 18 10 38 25 42 41 22 23 30 29 11 48 39 19 10\n",
      "  41 22 40 18 18 13]]\n"
     ]
    }
   ],
   "source": [
    "programme(my_array)\n",
    "print(my_array.T) # Affichage en trabsposée pour une meilleure lecture des valeurs"
   ]
  },
  {
   "cell_type": "markdown",
   "metadata": {},
   "source": [
    "## <u>**Exercice 6**</u>\n",
    "\n",
    "* Ecrire un programme NumPy pour créer une matrice 3x3 avec des valeurs allant de 2 à 10\n",
    "* Créer la matrice suivante sans saisir explicitement ses valeurs :\n",
    ">```python\n",
    "[1,6,11]\n",
    "[2,7,12]\n",
    "[3,8,13]\n",
    "[4,9,14]\n",
    "[5,10,15]\n",
    "```\n",
    "* Divisier le tableau `s=np.arange(25).reshape(5,5)` afin de séparer chaque colonne à part.\n",
    "* Créer la matrice suivante en concaténant 3 tableaux unidimensionnel. Utiliser `np.arange` et `np.ones` pour la création des tableaux.\n",
    ">```python\n",
    "[7,8,9]\n",
    "[1,1,1]\n",
    "[12,18,2]\n",
    "```"
   ]
  },
  {
   "cell_type": "code",
   "execution_count": null,
   "metadata": {},
   "outputs": [],
   "source": []
  },
  {
   "cell_type": "markdown",
   "metadata": {},
   "source": [
    "## <u>**Exercice 7**</u>\n",
    "\n",
    "* Ecrire un programme qui trouve les positions des éléments non nuls dans un tableau.\n",
    "* Ecrire un programme qui teste si aucun des éléments d'un tableau donné n'est nul\n",
    "* Utiliser la fonction Numpy `np.pad` pour ajouter une bordure (remplie de 0) autour d'un tableau existant\n",
    "* Utiliser la fonction `np.asarray` pour créer un tableau à partir d'un tuple ou une liste\n",
    "* Tester la fonction `np.append` pour ajouter des éléments à la fin d'un tableau.\n",
    "* Utiliser la fonction `np.in1d` pour tester si chaqye élément d'un tableau 1-D est également présent dans un second tableau\n",
    "* Utiliser la fonction `np.intersect1d` pour trouver des valeurs communes entre deux tableaux\n",
    "* Utiliser la fonction `np.tile` pour construire un tableau en répétant les éléments d'un auyre tableau\n",
    "* Utiliser la fonction `bincount` pour compter le nombre d'occurennces de chaque valeur d'un tableau de valeurs positives"
   ]
  },
  {
   "cell_type": "code",
   "execution_count": null,
   "metadata": {},
   "outputs": [],
   "source": []
  },
  {
   "cell_type": "markdown",
   "metadata": {},
   "source": [
    "## <u>**Exercice 8**</u>\n",
    "\n",
    "Utiliser la libairie NumPy pour lire un fichier représentant un dataset. Utiliser la fonction `gen.genfromtxt()` pour lire le fichier *titanic.csv* dans un tableau que l'on nommera *données*\n",
    "* Afficher le type de la variable données en utilisant la fonction `type()`\n",
    "* Afficher sa dimension, sa forme, etc.\n",
    "* Apporter des modifications à votre base et sauvegarder la nouvelle base dans un fichier _titanic\\_mod.csv_"
   ]
  },
  {
   "cell_type": "code",
   "execution_count": null,
   "metadata": {},
   "outputs": [],
   "source": []
  }
 ],
 "metadata": {
  "kernelspec": {
   "display_name": "Python 3",
   "language": "python",
   "name": "python3"
  },
  "language_info": {
   "codemirror_mode": {
    "name": "ipython",
    "version": 3
   },
   "file_extension": ".py",
   "mimetype": "text/x-python",
   "name": "python",
   "nbconvert_exporter": "python",
   "pygments_lexer": "ipython3",
   "version": "3.8.3"
  }
 },
 "nbformat": 4,
 "nbformat_minor": 4
}
